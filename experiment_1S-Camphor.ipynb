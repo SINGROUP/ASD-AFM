{
 "cells": [
  {
   "cell_type": "code",
   "execution_count": null,
   "metadata": {},
   "outputs": [],
   "source": [
    "import os\n",
    "import time\n",
    "import numpy as np\n",
    "import matplotlib.pyplot as plt\n",
    "#import imageio\n",
    "import sys \n",
    "%matplotlib notebook"
   ]
  },
  {
   "cell_type": "markdown",
   "metadata": {},
   "source": [
    "# Goal\n",
    "Here we want to demonstrate how our ASD-AFM aproach could be applied for experimental AFM data processing. Automated Structure Discovery means:\n",
    "- identification of structure and chemical content for unknown molecule\n",
    "- identification of orientations for known molecule. \n",
    "\n",
    "First task can be solved for more or less 2D molecules. Nevertheless it starts to feel troubles for 3D molecules. Why? It is partially connected to the nature of AFM method. Terminated by probe particle tip doesn't penetrate inside molecule. In case of bulky molecules AFM data contains only information only about some top layers of atoms. Therefore unknown molecule full chemical content identification could be problematic in some cases.\n",
    "\n",
    "Second task is easier for any molecules with known chemical content. As a benchmark for our first iteration of the method, we apply our pretrained CNN model to resolve several distinct adsorption configurations of 1S-camphor on Cu(111) based on low-temperature AFM measurements.\n",
    "\n",
    "The 3D experimental image stack is fed into the CNN model and a 2D image descriptor (van  der  Waals  Spheres) is predicted based on this data. This descriptor is then compared via cross-correlation to a set of descriptors calculated directly from atomic coordinates taken from a set of uniformly distributed 500 rotations of 1S-Camphor molecule in vacuum. The best fit gives us a prediction of the molecular configuration corresponding to the original vdW-Spheres descriptor from experimental data.\n",
    "\n",
    "Experimental AFM data, simulated AFM data for 500 uniformly distributed rotations of 1S-Camphor in vacuum and also predicted from CNN vdW-Spheres image descriptors we take as an input here. Download these from here: https://www.dropbox.com/s/jq68p0u1b9hx1qu/matching_data.tar.gz?dl=0. Extract the archive to repo directory. It will create:\n",
    "- simulated_configs_data.npz - simulated AFM data and predicted vdW-Spheres descriptor for 500 1S-Camphor's configurations\n",
    "- simulated_configs_geom - folder with geometries for simulated configurations\n",
    "- experimental_configs_data - experimental AFM data and predicted vdW-Spheres descriptors"
   ]
  },
  {
   "cell_type": "markdown",
   "metadata": {},
   "source": [
    "# Experimental 1S-Camphor AFM data"
   ]
  },
  {
   "cell_type": "markdown",
   "metadata": {},
   "source": [
    "Let's take a look on experimental data"
   ]
  },
  {
   "cell_type": "code",
   "execution_count": null,
   "metadata": {},
   "outputs": [],
   "source": [
    "# plot input AFM data from preloaded to folders .npz files\n",
    "def plot_experiment_AFM(list_of_exp):\n",
    "    \n",
    "    cols = 10\n",
    "    rows = len(list_of_exp)\n",
    "    fig=plt.figure(figsize=(1.8*cols, 1.8*rows))\n",
    "    ax = []\n",
    "    for i,experiment in enumerate(list_of_exp):\n",
    "        filename_exp = 'experimental_configs_data/'+str(experiment)+'orient_exp.npz' \n",
    "        data= np.load(filename_exp)\n",
    "        X_exp=data['X']\n",
    "        print '#'+str(experiment)+' 1S-Champhor experiment '+ 'X.shape:', X_exp.shape\n",
    "     \n",
    "    \n",
    "        for j in range(10):\n",
    "            ax.append(fig.add_subplot(rows,cols,i*cols+j+1))\n",
    "            xj = X_exp[0,:,:,j]\n",
    "            vmax = xj.max()\n",
    "            vmin = xj.min() \n",
    "            plt.imshow(xj,  cmap='afmhot', origin=\"lower\",vmin=vmin-0.1*(vmax-vmin),vmax=vmax+0.1*(vmax-vmin))\n",
    "            plt.xticks([])\n",
    "            plt.yticks([])\n",
    "            if j == 0:\n",
    "                ax[-1].set_ylabel('AFM experiment '+ str(experiment))\n",
    "\n",
    "    plt.show()\n",
    "        \n",
    "experiments = [1,3,4,6,7]\n",
    "\n",
    "plot_experiment_AFM(experiments)"
   ]
  },
  {
   "cell_type": "markdown",
   "metadata": {},
   "source": [
    "Even highly trained experts were not able to decipher the molecular structure from these images. "
   ]
  },
  {
   "cell_type": "code",
   "execution_count": null,
   "metadata": {},
   "outputs": [],
   "source": [
    "def plot_experiment_preds(list_of_exp):\n",
    "    cols = len(list_of_exp)\n",
    "    rows = 1\n",
    "    fig=plt.figure(figsize=(2*cols, 2*rows))\n",
    "    ax = []\n",
    "    for i,experiment in enumerate(list_of_exp):\n",
    "        filename_exp = 'experimental_configs_data/'+str(experiment)+'orient_exp.npz' \n",
    "        data= np.load(filename_exp)\n",
    "        Y_exp=data['Y']\n",
    "        ax.append(fig.add_subplot(rows,cols,i+1))\n",
    "        plt.imshow(Y_exp[1][0], origin=\"lower\")            \n",
    "        ax[-1].set_ylabel('vdW-Spheres')\n",
    "        ax[-1].set_xlabel('AFM experiment '+ str(experiment))\n",
    "        plt.xticks([])\n",
    "        plt.yticks([])\n",
    "    plt.show()\n",
    "experiments = [1,3,4,6,7]\n",
    "\n",
    "plot_experiment_preds(experiments)"
   ]
  },
  {
   "cell_type": "markdown",
   "metadata": {},
   "source": [
    "# Matching simulated configurations to experimental configurations\n",
    "The best fit gives us a prediction of the molecular configuration corresponding to the original descriptor from experimental data"
   ]
  },
  {
   "cell_type": "code",
   "execution_count": null,
   "metadata": {},
   "outputs": [],
   "source": [
    "from utils_matching import *\n",
    "orientations   = [1,3, 4 ,6 ,7]\n",
    "filename_model = './simulated_configs_data.npz'\n",
    "\n",
    "for i in range(np.size(orientations)):\n",
    "    orient = orientations[i]\n",
    "    filename_exp = 'experimental_configs_data/'+str(orient)+'orient_exp.npz'\n",
    "    # check if correlation values have been already calculated\n",
    "    if os.path.isfile('experimental_configs_data/'+str(orient)+'orient_exp_sim_cor_values.csv'):\n",
    "        print ('Experiment '+str(orient)+ ': correlations file exist')\n",
    "    else:\n",
    "        create_df_model_coef_correls(filename_model,filename_exp,orient) \n",
    "    "
   ]
  },
  {
   "cell_type": "markdown",
   "metadata": {},
   "source": [
    "Let's plot for each 1S-Camphor AFM experiment few simulated configurations with best correlation coefficients:"
   ]
  },
  {
   "cell_type": "code",
   "execution_count": null,
   "metadata": {},
   "outputs": [],
   "source": [
    "orientations    = [1,3,4,6,7]\n",
    "num_best = 3 # how many best simulated configurations to plot\n",
    "filename_model  = './simulated_configs_data.npz' \n",
    "dir_exp  = 'experimental_configs_data/'  # here we load csv and X Y experiment orientations data\n",
    "dir_sim_geom = './simulated_configs_geom/'\n",
    "plot_best_match_configs_one(filename_model,dir_sim_geom,dir_exp,orientations[0],num_best)\n"
   ]
  },
  {
   "cell_type": "code",
   "execution_count": null,
   "metadata": {},
   "outputs": [],
   "source": [
    "plot_best_match_configs_one(filename_model,dir_sim_geom,dir_exp,orientations[2],num_best)\n"
   ]
  },
  {
   "cell_type": "markdown",
   "metadata": {},
   "source": [
    "Let's plot all experiments matched in one big image:"
   ]
  },
  {
   "cell_type": "code",
   "execution_count": null,
   "metadata": {},
   "outputs": [],
   "source": [
    "orientations    = [1,3,4,6,7]\n",
    "num_best = 3 # how many best simulated configurations to plot\n",
    "filename_model  = './simulated_configs_data.npz' \n",
    "dir_exp  = 'experimental_configs_data/'  # here we load csv and X Y experiment orientations data\n",
    "dir_sim_geom = './simulated_configs_geom/'\n",
    "plot_best_match_configs_all(filename_model,dir_sim_geom,dir_exp,orientations)\n"
   ]
  },
  {
   "cell_type": "code",
   "execution_count": null,
   "metadata": {},
   "outputs": [],
   "source": []
  }
 ],
 "metadata": {
  "kernelspec": {
   "display_name": "Python 2",
   "language": "python",
   "name": "python2"
  },
  "language_info": {
   "codemirror_mode": {
    "name": "ipython",
    "version": 2
   },
   "file_extension": ".py",
   "mimetype": "text/x-python",
   "name": "python",
   "nbconvert_exporter": "python",
   "pygments_lexer": "ipython2",
   "version": "2.7.15"
  }
 },
 "nbformat": 4,
 "nbformat_minor": 2
}
